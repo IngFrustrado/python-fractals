{
 "cells": [
  {
   "cell_type": "markdown",
   "metadata": {},
   "source": []
  },
  {
   "cell_type": "code",
   "execution_count": null,
   "metadata": {},
   "outputs": [],
   "source": [
    "#!/usr/bin/env python3\n",
    "# -*- coding: utf-8 -*-\n",
    "import numpy as np\n",
    "import matplotlib.pyplot as plt\n",
    "import matplotlib.cm as cm"
   ]
  },
  {
   "cell_type": "code",
   "execution_count": 19,
   "metadata": {},
   "outputs": [],
   "source": [
    "# Image width and height; parameters for the plot\n",
    "im_width, im_height = 500, 500\n",
    "\n",
    "# c = complex(-0.1, 0.65)\n",
    "# c = complex(0, 0.8)\n",
    "# c = complex(-0.8, 0.25)\n",
    "c = complex(-0.8, 0)\n",
    "\n",
    "zabs_max = 10\n",
    "nit_max = 1000\n",
    "\n",
    "xmin, xmax = -1.5, 1.5\n",
    "xwidth = xmax - xmin\n",
    "\n",
    "ymin, ymax = -1.5, 1.5\n",
    "yheight = ymax - ymin"
   ]
  },
  {
   "cell_type": "markdown",
   "metadata": {},
   "source": []
  },
  {
   "cell_type": "code",
   "execution_count": 20,
   "metadata": {},
   "outputs": [],
   "source": [
    "julia = np.zeros((im_width, im_height))\n",
    "\n",
    "for ix in range(im_width):\n",
    "    for iy in range(im_height):\n",
    "        nit = 0\n",
    "        # Map pixel position to a point in the complex plane\n",
    "        z = complex(ix / im_width * xwidth + xmin,\n",
    "                    iy / im_height * yheight + ymin)\n",
    "        # Do the iterations\n",
    "        while abs(z) <= zabs_max and nit < nit_max:\n",
    "            z = z**2 + c\n",
    "            nit += 1\n",
    "        shade = 1-np.sqrt(nit / nit_max)\n",
    "        ratio = nit / nit_max\n",
    "        julia[ix,iy] = ratio"
   ]
  },
  {
   "cell_type": "code",
   "execution_count": 21,
   "metadata": {},
   "outputs": [
    {
     "data": {
      "image/png": "[encoded data removed]",
      "text/plain": [
       "<Figure size 432x288 with 1 Axes>"
      ]
     },
     "metadata": {
      "needs_background": "light"
     },
     "output_type": "display_data"
    }
   ],
   "source": [
    "fig, ax = plt.subplots()\n",
    "ax.imshow(julia, interpolation='nearest', cmap=cm.hot)\n",
    "plt.show()"
   ]
  },
  {
   "cell_type": "code",
   "execution_count": null,
   "metadata": {},
   "outputs": [],
   "source": []
  }
 ],
 "metadata": {
  "kernelspec": {
   "display_name": "Python 3",
   "language": "python",
   "name": "python3"
  },
  "language_info": {
   "codemirror_mode": {
    "name": "ipython",
    "version": 3
   },
   "file_extension": ".py",
   "mimetype": "text/x-python",
   "name": "python",
   "nbconvert_exporter": "python",
   "pygments_lexer": "ipython3",
   "version": "3.7.6"
  }
 },
 "nbformat": 4,
 "nbformat_minor": 4
}
